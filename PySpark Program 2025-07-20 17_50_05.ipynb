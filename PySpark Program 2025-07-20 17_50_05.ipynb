{
 "cells": [
  {
   "cell_type": "code",
   "execution_count": 0,
   "metadata": {
    "application/vnd.databricks.v1+cell": {
     "cellMetadata": {
      "byteLimit": 2048000,
      "rowLimit": 10000
     },
     "inputWidgets": {},
     "nuid": "e7296647-030b-49ed-ba34-7fd8dc68ef04",
     "showTitle": false,
     "tableResultSettingsMap": {},
     "title": ""
    }
   },
   "outputs": [
    {
     "output_type": "stream",
     "name": "stdout",
     "output_type": "stream",
     "text": [
      "+-------+---+\n|   Name|Age|\n+-------+---+\n|  Alice| 25|\n|    Bob| 30|\n|Charlie| 35|\n+-------+---+\n\n"
     ]
    }
   ],
   "source": [
    "from pyspark.sql import SparkSession\n",
    "spark=SparkSession.builder.appName(\"PySparkExample\").getOrCreate()\n",
    "data=[(\"Alice\", 25), (\"Bob\", 30), (\"Charlie\", 35)] \n",
    "df=spark.createDataFrame(data, [\"Name\", \"Age\"])\n",
    "\n",
    "#Show the DataFrame \n",
    "df.show()\n",
    "\n",
    "spark.stop()\n"
   ]
  },
  {
   "cell_type": "code",
   "execution_count": 0,
   "metadata": {
    "application/vnd.databricks.v1+cell": {
     "cellMetadata": {
      "byteLimit": 2048000,
      "rowLimit": 10000
     },
     "inputWidgets": {},
     "nuid": "79532c7c-a31b-430e-a664-839cb3060b39",
     "showTitle": false,
     "tableResultSettingsMap": {},
     "title": ""
    }
   },
   "outputs": [
    {
     "output_type": "stream",
     "name": "stdout",
     "output_type": "stream",
     "text": [
      "+---+-------+-----------+------+\n| ID|   Name| Department|Salary|\n+---+-------+-----------+------+\n|  1|  Alice|Engineering| 65000|\n|  2|    Bob|  Marketing| 58000|\n|  3|Charlie|      Sales| 52000|\n|  4|  David|Engineering| 72000|\n|  5|    Eve|      Sales| 54000|\n+---+-------+-----------+------+\n\nroot\n |-- ID: long (nullable = true)\n |-- Name: string (nullable = true)\n |-- Department: string (nullable = true)\n |-- Salary: long (nullable = true)\n\n+---+-----+-----------+------+\n| ID| Name| Department|Salary|\n+---+-----+-----------+------+\n|  1|Alice|Engineering| 65000|\n|  4|David|Engineering| 72000|\n+---+-----+-----------+------+\n\n+-----------+-----+\n| Department|count|\n+-----------+-----+\n|Engineering|    2|\n|  Marketing|    1|\n|      Sales|    2|\n+-----------+-----+\n\n+-----------+-----------+\n| Department|avg(Salary)|\n+-----------+-----------+\n|Engineering|    68500.0|\n|  Marketing|    58000.0|\n|      Sales|    53000.0|\n+-----------+-----------+\n\n"
     ]
    }
   ],
   "source": [
    "from pyspark.sql import SparkSession\n",
    "spark = SparkSession.builder.appName(\"StudentAssignment\").getOrCreate()\n",
    "# Sample employee data\n",
    "data = [\n",
    " (1, \"Alice\", \"Engineering\", 65000),\n",
    " (2, \"Bob\", \"Marketing\", 58000),\n",
    " (3, \"Charlie\", \"Sales\", 52000),\n",
    " (4, \"David\", \"Engineering\", 72000),\n",
    " (5, \"Eve\", \"Sales\", 54000)\n",
    "]\n",
    "schema = [\"ID\", \"Name\", \"Department\", \"Salary\"]\n",
    "df = spark.createDataFrame(data, schema=schema)\n",
    "df.show()\n",
    "#Show schema\n",
    "df.printSchema()\n",
    "# Filter: Salary > 60000\n",
    "df.filter(df[\"Salary\"] > 60000).show()\n",
    "# Group by Department\n",
    "df.groupBy(\"Department\").count().show()\n",
    "# Average Salary by Department\n",
    "df.groupBy(\"Department\").avg(\"Salary\").show()\n"
   ]
  },
  {
   "cell_type": "code",
   "execution_count": 0,
   "metadata": {
    "application/vnd.databricks.v1+cell": {
     "cellMetadata": {
      "byteLimit": 2048000,
      "rowLimit": 10000
     },
     "inputWidgets": {},
     "nuid": "47e371fd-2241-4466-b22e-e6745f0d9b38",
     "showTitle": false,
     "tableResultSettingsMap": {},
     "title": ""
    }
   },
   "outputs": [
    {
     "output_type": "stream",
     "name": "stdout",
     "output_type": "stream",
     "text": [
      "+-----------+----------+---------+--------+------------+---------+----------+------+\n|        _c0|       _c1|      _c2|     _c3|         _c4|      _c5|       _c6|   _c7|\n+-----------+----------+---------+--------+------------+---------+----------+------+\n|EMPLOYEE_ID|FIRST_NAME|LAST_NAME|   EMAIL|PHONE_NUMBER|HIRE_DATE|    JOB_ID|SALARY|\n|        198|    Donald| OConnell|DOCONNEL|650.507.9833|21-Jun-07|  SH_CLERK|  2600|\n|        199|   Douglas|    Grant|  DGRANT|650.507.9844|13-Jan-08|  SH_CLERK|  2600|\n|        200|  Jennifer|   Whalen| JWHALEN|515.123.4444|17-Sep-03|   AD_ASST|  4400|\n|        201|   Michael|Hartstein|MHARTSTE|515.123.5555|17-Feb-04|    MK_MAN| 13000|\n|        202|       Pat|      Fay|    PFAY|603.123.6666|17-Aug-05|    MK_REP|  6000|\n|        203|     Susan|   Mavris| SMAVRIS|515.123.7777|07-Jun-02|    HR_REP|  6500|\n|        204|   Hermann|     Baer|   HBAER|515.123.8888|07-Jun-02|    PR_REP| 10000|\n|        205|   Shelley|  Higgins|SHIGGINS|515.123.8080|07-Jun-02|    AC_MGR| 12008|\n|        206|   William|    Gietz|  WGIETZ|515.123.8181|07-Jun-02|AC_ACCOUNT|  8300|\n|        100|    Steven|     King|   SKING|515.123.4567|17-Jun-03|   AD_PRES| 24000|\n|        101|     Neena|  Kochhar|NKOCHHAR|515.123.4568|21-Sep-05|     AD_VP| 17000|\n|        102|       Lex|  De Haan| LDEHAAN|515.123.4569|13-Jan-01|     AD_VP| 17000|\n|        103| Alexander|   Hunold| AHUNOLD|590.423.4567|03-Jan-06|   IT_PROG|  9000|\n|        104|     Bruce|    Ernst|  BERNST|590.423.4568|21-May-07|   IT_PROG|  6000|\n|        105|     David|   Austin| DAUSTIN|590.423.4569|25-Jun-05|   IT_PROG|  4800|\n|        106|     Valli|Pataballa|VPATABAL|590.423.4560|05-Feb-06|   IT_PROG|  4800|\n|        107|     Diana|  Lorentz|DLORENTZ|590.423.5567|07-Feb-07|   IT_PROG|  4200|\n|        108|     Nancy|Greenberg|NGREENBE|515.124.4569|17-Aug-02|    FI_MGR| 12008|\n|        109|    Daniel|   Faviet| DFAVIET|515.124.4169|16-Aug-02|FI_ACCOUNT|  9000|\n+-----------+----------+---------+--------+------------+---------+----------+------+\nonly showing top 20 rows\nroot\n |-- _c0: string (nullable = true)\n |-- _c1: string (nullable = true)\n |-- _c2: string (nullable = true)\n |-- _c3: string (nullable = true)\n |-- _c4: string (nullable = true)\n |-- _c5: string (nullable = true)\n |-- _c6: string (nullable = true)\n |-- _c7: string (nullable = true)\n\n"
     ]
    }
   ],
   "source": [
    "from pyspark.sql import SparkSession\n",
    "spark = SparkSession.builder.appName(\"Spark DataFrames\").getOrCreate()\n",
    "df = spark.read.csv(\"/Volumes/ackshu/default/csvemployee/employees1.csv\")\n",
    "df.show()\n",
    "df.printSchema()\n"
   ]
  },
  {
   "cell_type": "code",
   "execution_count": 0,
   "metadata": {
    "application/vnd.databricks.v1+cell": {
     "cellMetadata": {
      "byteLimit": 2048000,
      "rowLimit": 10000
     },
     "inputWidgets": {},
     "nuid": "4cb3b6b1-14c6-4671-9a45-bdb6218b46f5",
     "showTitle": false,
     "tableResultSettingsMap": {},
     "title": ""
    }
   },
   "outputs": [
    {
     "output_type": "stream",
     "name": "stdout",
     "output_type": "stream",
     "text": [
      "+------+----------+----------+------+\n|EMP_ID|FIRST_NAME|DEPARTMENT|SALARY|\n+------+----------+----------+------+\n|     1|      Raja|     AI&DS| 90000|\n|     2|    Sureen|    PHARMA| 85000|\n|     3|    Chitra|       CSE| 60000|\n|     4|   Revathi|     B.COM| 50000|\n|     5|      Banu|       MBA| 65000|\n|     6|     Sudha|    M.PHIL| 75000|\n|     7|    Gopika|       ECE| 70000|\n|     8|      Devi| CHEMISTRY| 80000|\n|     9|    Sakthi|       EEE| 55000|\n|    10|   Gowtham|        IT| 40000|\n+------+----------+----------+------+\n\nroot\n |-- EMP_ID: integer (nullable = true)\n |-- FIRST_NAME: string (nullable = true)\n |-- DEPARTMENT: string (nullable = true)\n |-- SALARY: integer (nullable = true)\n\n+----------+-----------+\n|DEPARTMENT|avg(SALARY)|\n+----------+-----------+\n|       ECE|    70000.0|\n|       CSE|    60000.0|\n|       MBA|    65000.0|\n|        IT|    40000.0|\n| CHEMISTRY|    80000.0|\n|       EEE|    55000.0|\n|    PHARMA|    85000.0|\n|     B.COM|    50000.0|\n|     AI&DS|    90000.0|\n|    M.PHIL|    75000.0|\n+----------+-----------+\n\n+------+----------+----------+------+------+\n|EMP_ID|FIRST_NAME|DEPARTMENT|SALARY| Bonus|\n+------+----------+----------+------+------+\n|     1|      Raja|     AI&DS| 90000|9000.0|\n|     2|    Sureen|    PHARMA| 85000|8500.0|\n|     3|    Chitra|       CSE| 60000|6000.0|\n|     4|   Revathi|     B.COM| 50000|5000.0|\n|     5|      Banu|       MBA| 65000|6500.0|\n|     6|     Sudha|    M.PHIL| 75000|7500.0|\n|     7|    Gopika|       ECE| 70000|7000.0|\n|     8|      Devi| CHEMISTRY| 80000|8000.0|\n|     9|    Sakthi|       EEE| 55000|5500.0|\n|    10|   Gowtham|        IT| 40000|4000.0|\n+------+----------+----------+------+------+\n\n+------+----------+----------+------+------+\n|EMP_ID|FIRST_NAME|DEPARTMENT|SALARY| Bonus|\n+------+----------+----------+------+------+\n|     1|      Raja|     AI&DS| 90000|9000.0|\n|     2|    Sureen|    PHARMA| 85000|8500.0|\n|     6|     Sudha|    M.PHIL| 75000|7500.0|\n|     8|      Devi| CHEMISTRY| 80000|8000.0|\n+------+----------+----------+------+------+\n\n"
     ]
    },
    {
     "output_type": "display_data",
     "data": {
      "text/html": [
       "<style scoped>\n",
       "  .table-result-container {\n",
       "    max-height: 300px;\n",
       "    overflow: auto;\n",
       "  }\n",
       "  table, th, td {\n",
       "    border: 1px solid black;\n",
       "    border-collapse: collapse;\n",
       "  }\n",
       "  th, td {\n",
       "    padding: 5px;\n",
       "  }\n",
       "  th {\n",
       "    text-align: left;\n",
       "  }\n",
       "</style><div class='table-result-container'><table class='table-result'><thead style='background-color: white'><tr><th>DEPARTMENT</th><th>avg(SALARY)</th></tr></thead><tbody><tr><td>ECE</td><td>70000.0</td></tr><tr><td>CSE</td><td>60000.0</td></tr><tr><td>MBA</td><td>65000.0</td></tr><tr><td>IT</td><td>40000.0</td></tr><tr><td>CHEMISTRY</td><td>80000.0</td></tr><tr><td>EEE</td><td>55000.0</td></tr><tr><td>PHARMA</td><td>85000.0</td></tr><tr><td>B.COM</td><td>50000.0</td></tr><tr><td>AI&DS</td><td>90000.0</td></tr><tr><td>M.PHIL</td><td>75000.0</td></tr></tbody></table></div>"
      ]
     },
     "metadata": {
      "application/vnd.databricks.v1+output": {
       "addedWidgets": {},
       "aggData": [],
       "aggError": "",
       "aggOverflow": false,
       "aggSchema": [],
       "aggSeriesLimitReached": false,
       "aggType": "",
       "arguments": {},
       "columnCustomDisplayInfos": {},
       "data": [
        [
         "ECE",
         70000.0
        ],
        [
         "CSE",
         60000.0
        ],
        [
         "MBA",
         65000.0
        ],
        [
         "IT",
         40000.0
        ],
        [
         "CHEMISTRY",
         80000.0
        ],
        [
         "EEE",
         55000.0
        ],
        [
         "PHARMA",
         85000.0
        ],
        [
         "B.COM",
         50000.0
        ],
        [
         "AI&DS",
         90000.0
        ],
        [
         "M.PHIL",
         75000.0
        ]
       ],
       "datasetInfos": [],
       "dbfsResultPath": null,
       "isJsonSchema": true,
       "metadata": {},
       "overflow": false,
       "plotOptions": {
        "customPlotOptions": {},
        "displayType": "table",
        "pivotAggregation": null,
        "pivotColumns": null,
        "xColumns": null,
        "yColumns": null
       },
       "removedWidgets": [],
       "schema": [
        {
         "metadata": "{}",
         "name": "DEPARTMENT",
         "type": "\"string\""
        },
        {
         "metadata": "{\"__autoGeneratedAlias\": \"true\"}",
         "name": "avg(SALARY)",
         "type": "\"double\""
        }
       ],
       "type": "table"
      }
     },
     "output_type": "display_data"
    }
   ],
   "source": [
    "from pyspark.sql import SparkSession\n",
    "spark = SparkSession.builder.appName(\"Spark DataFrames\").getOrCreate()\n",
    "df = spark.read.csv(\"/Volumes/ackshu/default/csvsalary/Book1.csv\",header=True,inferSchema=True)\n",
    "df.show()\n",
    "df.printSchema()\n",
    "df.groupBy(\"DEPARTMENT\").avg(\"SALARY\").show()\n",
    "df = df.withColumn(\"Bonus\", df.SALARY * 0.10)\n",
    "df.show()\n",
    "df.filter(df.SALARY > 70000).show()\n",
    "display(df.groupBy(\"DEPARTMENT\").avg(\"SALARY\"))\n"
   ]
  }
 ],
 "metadata": {
  "application/vnd.databricks.v1+notebook": {
   "computePreferences": null,
   "dashboards": [],
   "environmentMetadata": {
    "base_environment": "",
    "environment_version": "2"
   },
   "inputWidgetPreferences": null,
   "language": "python",
   "notebookMetadata": {
    "pythonIndentUnit": 4
   },
   "notebookName": "PySpark Program 2025-07-20 17:50:05",
   "widgets": {}
  },
  "language_info": {
   "name": "python"
  }
 },
 "nbformat": 4,
 "nbformat_minor": 0
}